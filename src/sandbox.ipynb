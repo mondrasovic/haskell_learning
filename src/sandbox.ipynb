{
 "metadata": {
  "language_info": {
   "codemirror_mode": {
    "name": "ipython",
    "version": 3
   },
   "file_extension": ".py",
   "mimetype": "text/x-python",
   "name": "python",
   "nbconvert_exporter": "python",
   "pygments_lexer": "ipython3",
   "version": "3.7.9"
  },
  "orig_nbformat": 2,
  "kernelspec": {
   "name": "python379jvsc74a57bd0f67e0f1cfe5a6113c80713afb4a66c9242fb2a734f9f1c5885efee9ff3d807f5",
   "display_name": "Python 3.7.9 64-bit"
  }
 },
 "nbformat": 4,
 "nbformat_minor": 2,
 "cells": [
  {
   "cell_type": "code",
   "execution_count": 3,
   "metadata": {},
   "outputs": [
    {
     "output_type": "execute_result",
     "data": {
      "text/plain": [
       "6"
      ]
     },
     "metadata": {},
     "execution_count": 3
    }
   ],
   "source": [
    "def fact(n):\n",
    "    acc = 1\n",
    "    while True:\n",
    "        if n <= 1:\n",
    "            return acc\n",
    "        acc *= n\n",
    "        n -= 1\n",
    "\n",
    "fact(3)"
   ]
  }
 ]
}